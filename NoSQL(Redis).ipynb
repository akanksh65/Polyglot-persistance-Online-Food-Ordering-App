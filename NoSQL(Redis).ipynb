{
 "cells": [
  {
   "cell_type": "markdown",
   "metadata": {},
   "source": [
    "# Polyglot Persistence\n",
    "# NoSQL(Redis) with python\n",
    "\n",
    "## Food basket and Item status stored in Redis database"
   ]
  },
  {
   "cell_type": "code",
   "execution_count": 1,
   "metadata": {
    "scrolled": true
   },
   "outputs": [
    {
     "name": "stdout",
     "output_type": "stream",
     "text": [
      "True\n"
     ]
    }
   ],
   "source": [
    "# Import Redis package\n",
    "import redis,uuid\n",
    "\n",
    "# Main class Redis() which you use to execute Redis commands (the port and db=0 are default values)\n",
    "# Localhost = 127.0.0.1\n",
    "r8 = redis.Redis(host='localhost', port=6379, db=8)\n",
    "\n",
    "# Check database connection -will return true if successful\n",
    "print(r8.ping())"
   ]
  },
  {
   "cell_type": "code",
   "execution_count": 21,
   "metadata": {},
   "outputs": [],
   "source": [
    "import random\n",
    "\n",
    "\n",
    "# Redis hash of field-value pairs is used. Eash hash has a key that with an integer (we are importing random())\n",
    "random.seed(203)\n",
    "\n",
    "import random\n",
    "# Redis hash of field-value pairs is used. Eash hash has a key that with an integer (we are importing random())\n",
    "random.seed(203)\n",
    "\n",
    "# The prefix food_basket creates a namespace. We are keeing only food_basket created in Redis\n",
    "food_baskets = {f\"food_basket:{random.getrandbits(32)}\": i for i in (\n",
    "    {\n",
    "        'customer_id':1,\n",
    "        'order_id':1,\n",
    "        'total_amount':4000,\n",
    "        'quantity:1':4,\n",
    "        'quantity:2':2,\n",
    "        'menu_name:1':'chicken momos',\n",
    "        'menu_status:1':1,\n",
    "        'menu_status:2':0,\n",
    "        'menu_name:2':'chicken satay',\n",
    "        'site_name' : 'Party Fowl',\n",
    "        'date':'22 may, 2020',\n",
    "        'time':'14:00',\n",
    "        'discount_coupon': 'TURKEY25',\n",
    "        'discount_percentage':25,\n",
    "        'amount_after_discount':3000 \n",
    "    },\n",
    "    {\n",
    "        'customer_id':2,\n",
    "        'order_id':2,\n",
    "        'total_amount':5000,\n",
    "        'quantity:1':4,\n",
    "        'quantity:2':2,\n",
    "        'menu_name:1':'banana',\n",
    "        'menu_name:2':'apples',\n",
    "        'menu:1_status':1,\n",
    "        'menu:2_status':0,\n",
    "        'site_name' : 'Like No Udder',\n",
    "        'date':'21 may, 2020',\n",
    "        'time':'14:00',\n",
    "        'discount_coupon': 'ADIDAS30',\n",
    "        'discount_percentage':30,\n",
    "        'amount_after_discount':3500 \n",
    "    },\n",
    "    {\n",
    "        'customer_id':3,\n",
    "        'order_id':3,\n",
    "        'total_amount':7000,\n",
    "        'quantity:1':4,\n",
    "        'quantity:2':2,\n",
    "        'menu_name:1':'banana',\n",
    "        'menu_name:2':'apples',\n",
    "        'menu:1_status':1,\n",
    "        'menu:2_status':0,\n",
    "        'site_name' : 'Basic need Pizza',\n",
    "        'date':'21 may, 2020',\n",
    "        'time':'14:00',\n",
    "        'discount_coupon': 'BODYSHOP50',\n",
    "        'discount_percentage':50,\n",
    "        'amount_after_discount':3500\n",
    "    },\n",
    "    {\n",
    "        'customer_id':4,\n",
    "        'order_id':4,\n",
    "        'total_amount':8000,\n",
    "        'quantity:1':4,\n",
    "        'quantity:2':2,\n",
    "        'menu_name:1':'banana',\n",
    "        'menu_name:2':'apples',\n",
    "        'menu:1_status':1,\n",
    "        'menu:2_status':1,\n",
    "        'site_name' : 'The Codfather',\n",
    "        'date':'21 may, 2020',\n",
    "        'time':'14:00',\n",
    "        'discount_coupon': 'TURKEY25',\n",
    "        'discount_percentage':25,\n",
    "        'amount_after_discount':6000\n",
    "    },\n",
    "    {\n",
    "        'customer_id':2,\n",
    "        'order_id':2,\n",
    "        'total_amount':4000,\n",
    "        'quantity:1':4,\n",
    "        'quantity:2':2,\n",
    "        'menu_name:1':'banana',\n",
    "        'menu_name:2':'apples',\n",
    "        'menu:1_status':1,\n",
    "        'menu:2_status':1,\n",
    "        'site_name' : 'Life of Pie',\n",
    "        'date':'21 may, 2020',\n",
    "        'time':'14:00',\n",
    "        'discount_coupon': 'TURKEY25',\n",
    "        'discount_percentage':25,\n",
    "        'amount_after_discount':3000\n",
    "    })\n",
    "}\n",
    "\n",
    "\n",
    "\n"
   ]
  },
  {
   "cell_type": "code",
   "execution_count": 22,
   "metadata": {
    "scrolled": true
   },
   "outputs": [
    {
     "name": "stderr",
     "output_type": "stream",
     "text": [
      "E:\\Anaconda\\lib\\site-packages\\ipykernel_launcher.py:3: DeprecationWarning: Pipeline.hmset() is deprecated. Use Pipeline.hset() instead.\n",
      "  This is separate from the ipykernel package so we can avoid doing imports until\n"
     ]
    },
    {
     "data": {
      "text/plain": [
       "[b'menu_item:2113567782',\n",
       " b'food_basket:3616826228',\n",
       " b'menu_item:3965353997',\n",
       " b'menu_item:2578922745',\n",
       " b'menu_item:181884854',\n",
       " b'food_basket:389803428',\n",
       " b'menu_item:3616826228',\n",
       " b'food_basket:2113567782',\n",
       " b'menu_item:389803428',\n",
       " b'food_basket:2578922745',\n",
       " b'food_basket:181884854']"
      ]
     },
     "execution_count": 22,
     "metadata": {},
     "output_type": "execute_result"
    }
   ],
   "source": [
    "with r8.pipeline() as pipe:\n",
    "        for basket_id, food_basket in food_baskets.items():\n",
    "            pipe.hmset(basket_id, food_basket)   \n",
    "        pipe.execute()\n",
    "r8.keys()#displaying all the Redis hash present in the namespace"
   ]
  },
  {
   "cell_type": "markdown",
   "metadata": {},
   "source": [
    "## TTL(Time to Live) expiration if not proceeded to the next step"
   ]
  },
  {
   "cell_type": "markdown",
   "metadata": {},
   "source": [
    "#Hash keys will not be added from Redis cache to the database if the food basket stays idle for 10 mins without completing the payment.\n"
   ]
  },
  {
   "cell_type": "code",
   "execution_count": 6,
   "metadata": {},
   "outputs": [],
   "source": [
    "from datetime import datetime\n",
    "# retrieving current time using using datetime object\n",
    "now = datetime.now()"
   ]
  },
  {
   "cell_type": "code",
   "execution_count": 7,
   "metadata": {},
   "outputs": [
    {
     "data": {
      "text/plain": [
       "True"
      ]
     },
     "execution_count": 7,
     "metadata": {},
     "output_type": "execute_result"
    }
   ],
   "source": [
    "#Time To Live (TTL) implementation on customer's food basket. \n",
    "#Use this to temporarily store useful data.\n",
    "# Every key has TTL associated with it and the default value is -1.\n",
    "# Set this number to a positive value and which represents the number of seconds remaining before the data expires.\n",
    "\n",
    "r8.set('food_basket:3616826228',now.strftime(\"%H:%M:%S\"))\n",
    "r8.ttl('food_basket:3616826228')\n",
    "r8.expire('food_basket:3616826228', 600) #expiry set for 10 minutes"
   ]
  },
  {
   "cell_type": "code",
   "execution_count": 8,
   "metadata": {},
   "outputs": [
    {
     "data": {
      "text/plain": [
       "6"
      ]
     },
     "execution_count": 8,
     "metadata": {},
     "output_type": "execute_result"
    }
   ],
   "source": [
    "r8.ttl('food_basket:3616826228')"
   ]
  },
  {
   "cell_type": "code",
   "execution_count": 10,
   "metadata": {},
   "outputs": [
    {
     "data": {
      "text/plain": [
       "-1"
      ]
     },
     "execution_count": 10,
     "metadata": {},
     "output_type": "execute_result"
    }
   ],
   "source": [
    "r8.ttl('food_basket:3616826228')"
   ]
  },
  {
   "cell_type": "markdown",
   "metadata": {},
   "source": [
    "## If the Redis Hash key is not expired, adding it to the database from cache"
   ]
  },
  {
   "cell_type": "code",
   "execution_count": 11,
   "metadata": {
    "scrolled": true
   },
   "outputs": [
    {
     "name": "stderr",
     "output_type": "stream",
     "text": [
      "E:\\Anaconda\\lib\\site-packages\\ipykernel_launcher.py:12: DeprecationWarning: Pipeline.hmset() is deprecated. Use Pipeline.hset() instead.\n",
      "  if sys.path[0] == '':\n"
     ]
    }
   ],
   "source": [
    "# Adding data to database using HMSET\n",
    "\n",
    "# If the Redis hash key has not expired ADD it to the database using pipelining\n",
    "# The code block above also introduces the concept of Redis pipelining, which is a way to cut down the number of round-trip transactions that you need to write or read data from your Redis server. \n",
    "# If you would have just called r.hmset() three times, then this would necessitate a back-and-forth round trip operation for each row written.\n",
    "\n",
    "#Using if statement to check if the hash has expired. \n",
    "#If hash is not expired, pipelining the data(hash) into the database using HMSET\n",
    "if r8.ttl('food_basket:3616826228') !=-2:\n",
    "    with r8.pipeline() as pipe:\n",
    "        for basket_id, food_basket in food_baskets.items():\n",
    "            pipe.hmset(basket_id, food_basket)   \n",
    "        pipe.execute()\n"
   ]
  },
  {
   "cell_type": "code",
   "execution_count": 12,
   "metadata": {},
   "outputs": [
    {
     "data": {
      "text/plain": [
       "True"
      ]
     },
     "execution_count": 12,
     "metadata": {},
     "output_type": "execute_result"
    }
   ],
   "source": [
    "# Saving data\n",
    "\n",
    "r8.bgsave()"
   ]
  },
  {
   "cell_type": "code",
   "execution_count": 13,
   "metadata": {
    "scrolled": true
   },
   "outputs": [
    {
     "data": {
      "text/plain": [
       "[b'food_basket:3616826228',\n",
       " b'food_basket:389803428',\n",
       " b'food_basket:2113567782',\n",
       " b'food_basket:2578922745',\n",
       " b'food_basket:181884854']"
      ]
     },
     "execution_count": 13,
     "metadata": {},
     "output_type": "execute_result"
    }
   ],
   "source": [
    "#displaying keys having food_basket in the name of hashes\n",
    "r8.keys(\"food_basket*\")"
   ]
  },
  {
   "cell_type": "code",
   "execution_count": 14,
   "metadata": {
    "scrolled": false
   },
   "outputs": [
    {
     "name": "stdout",
     "output_type": "stream",
     "text": [
      "b'8000'\n",
      "b'25'\n"
     ]
    }
   ],
   "source": [
    "# View values\n",
    "#please change the index of hash to one of the values in the output above\n",
    "print(r8.hget(\"food_basket:2113567782\", \"total_amount\"))\n",
    "print(r8.hget(\"food_basket:2113567782\", \"discount_percentage\"))"
   ]
  },
  {
   "cell_type": "markdown",
   "metadata": {},
   "source": [
    "## II. Second feature implementation\n",
    "## Pattern matching "
   ]
  },
  {
   "cell_type": "markdown",
   "metadata": {},
   "source": [
    "## Saving another set of hash keys onto a distributed cache to know the Item ingredients( done this to avoid round-trip time)"
   ]
  },
  {
   "cell_type": "markdown",
   "metadata": {},
   "source": [
    "## Using pattern matching to help users view only those items which they are not allergic to"
   ]
  },
  {
   "cell_type": "markdown",
   "metadata": {},
   "source": [
    "## Using another namespace menu_items"
   ]
  },
  {
   "cell_type": "code",
   "execution_count": 15,
   "metadata": {},
   "outputs": [],
   "source": [
    "import random\n",
    "\n",
    "\n",
    "# Redis hash of field-value pairs is used. Eash hash has a key that with an integer (we are importing random())\n",
    "random.seed(203)\n",
    "\n",
    "import random\n",
    "# Redis hash of field-value pairs is used. Eash hash has a key that with an integer (we are importing random())\n",
    "random.seed(203)\n",
    "\n",
    "menu_items = {f\"menu_item:{random.getrandbits(32)}\": i for i in (\n",
    "    {\n",
    "        'menu_id':1,\n",
    "        'menu_name':'chicken momos',\n",
    "        'chicken':'ingredient',\n",
    "        'carrot':'ingredient',\n",
    "        'refined flour':'ingredient',\n",
    "        'cabbage':'ingredient',\n",
    "        'Oil':'ingredient'\n",
    "        \n",
    "    },\n",
    "    {\n",
    "        'menu_id':2,\n",
    "        'menu_name':'veg momos',\n",
    "        'paneer':'ingredient',\n",
    "        'mushroom':'ingredient',\n",
    "        'refined flour':'ingredient',\n",
    "        'maida':'ingredient'\n",
    "        \n",
    "    },\n",
    "    {\n",
    "        'menu_id':3,\n",
    "        'menu_name':'chicken noodles',\n",
    "        'chicken':'ingredient',\n",
    "        'soy sauce':'ingredient',\n",
    "        'Chilli pepper':'ingredient'\n",
    "    },\n",
    "    {\n",
    "        'menu_id':4,\n",
    "        'menu_name':'pork soup',\n",
    "        'sodium soy sauce':'ingredient',\n",
    "        'boneless pork':'ingredient',\n",
    "        'Sliced mushrooms':'ingredient'\n",
    "    },\n",
    "    {\n",
    "        'menu_id':5,\n",
    "        'menu_name':'chicken biriyani',\n",
    "        'ginger garlic paste':'ingredient',\n",
    "        'chicken':'ingredient',\n",
    "        'turmeric':'ingredient',\n",
    "        'chilly powder':'ingredient',\n",
    "        'garam masala':'ingredient'\n",
    "    },\n",
    "    {\n",
    "        'menu_id':6,\n",
    "        'menu_name':'Pancakes',\n",
    "        'eggs':'ingredient',\n",
    "        'milk':'ingredient',\n",
    "        'maple syrup':'ingredient',\n",
    "        'berries':'ingredient'\n",
    "    })\n",
    "}\n",
    "\n",
    "\n"
   ]
  },
  {
   "cell_type": "code",
   "execution_count": 16,
   "metadata": {
    "scrolled": true
   },
   "outputs": [
    {
     "name": "stderr",
     "output_type": "stream",
     "text": [
      "E:\\Anaconda\\lib\\site-packages\\ipykernel_launcher.py:9: DeprecationWarning: Pipeline.hmset() is deprecated. Use Pipeline.hset() instead.\n",
      "  if __name__ == '__main__':\n"
     ]
    }
   ],
   "source": [
    "# Adding data to database using HMSET\n",
    "\n",
    "# The code block below also introduces the concept of Redis pipelining, which is a way to cut down the number of round-trip transactions that you need to write or read data from your Redis server. \n",
    "# If you would have just called r.hmset() three times, then this would necessitate a back-and-forth round trip operation for each row written.\n",
    "\n",
    "\n",
    "with r8.pipeline() as pipe:\n",
    "        for menus_id, menu_item in menu_items.items():\n",
    "            pipe.hmset(menus_id, menu_item)   \n",
    "        pipe.execute()\n",
    "        \n"
   ]
  },
  {
   "cell_type": "code",
   "execution_count": 17,
   "metadata": {},
   "outputs": [
    {
     "data": {
      "text/plain": [
       "[b'menu_item:2113567782',\n",
       " b'menu_item:3965353997',\n",
       " b'menu_item:2578922745',\n",
       " b'menu_item:181884854',\n",
       " b'menu_item:3616826228',\n",
       " b'menu_item:389803428']"
      ]
     },
     "execution_count": 17,
     "metadata": {},
     "output_type": "execute_result"
    }
   ],
   "source": [
    "#Displays all the keys matching menu_item\n",
    "r8.keys(\"menu_item*\")"
   ]
  },
  {
   "cell_type": "markdown",
   "metadata": {},
   "source": [
    "### Filtering keys based on customer's allergy ( Using scan_iter() function)"
   ]
  },
  {
   "cell_type": "code",
   "execution_count": 27,
   "metadata": {
    "scrolled": false
   },
   "outputs": [
    {
     "ename": "ResponseError",
     "evalue": "unknown command 'SCAN'",
     "output_type": "error",
     "traceback": [
      "\u001b[1;31m---------------------------------------------------------------------------\u001b[0m",
      "\u001b[1;31mResponseError\u001b[0m                             Traceback (most recent call last)",
      "\u001b[1;32m<ipython-input-27-01ce79df809e>\u001b[0m in \u001b[0;36m<module>\u001b[1;34m\u001b[0m\n\u001b[0;32m      3\u001b[0m    \u001b[0mScans\u001b[0m \u001b[1;32mfor\u001b[0m \u001b[0mingredients\u001b[0m \u001b[0mhaving\u001b[0m \u001b[0mchicken\u001b[0m\u001b[1;33m.\u001b[0m \u001b[0mIf\u001b[0m \u001b[0mchicken\u001b[0m \u001b[0mexists\u001b[0m \u001b[1;32min\u001b[0m \u001b[0mthe\u001b[0m \u001b[0mnamespace\u001b[0m \u001b[0mdeletes\u001b[0m \u001b[0mthose\u001b[0m \u001b[0mkeys\u001b[0m\u001b[1;33m\u001b[0m\u001b[1;33m\u001b[0m\u001b[0m\n\u001b[0;32m      4\u001b[0m \"\"\"\n\u001b[1;32m----> 5\u001b[1;33m \u001b[1;32mfor\u001b[0m \u001b[0mk\u001b[0m \u001b[1;32min\u001b[0m \u001b[0mr8\u001b[0m\u001b[1;33m.\u001b[0m\u001b[0mscan_iter\u001b[0m\u001b[1;33m(\u001b[0m\u001b[1;34m\"*\"\u001b[0m\u001b[1;33m)\u001b[0m\u001b[1;33m:\u001b[0m\u001b[1;33m\u001b[0m\u001b[1;33m\u001b[0m\u001b[0m\n\u001b[0m\u001b[0;32m      6\u001b[0m     \u001b[0mr8\u001b[0m\u001b[1;33m.\u001b[0m\u001b[0mdelete\u001b[0m\u001b[1;33m(\u001b[0m\u001b[0mk\u001b[0m\u001b[1;33m)\u001b[0m\u001b[1;33m\u001b[0m\u001b[1;33m\u001b[0m\u001b[0m\n\u001b[0;32m      7\u001b[0m \u001b[1;31m#displays us menu_items which don't have chicken from Redis cache. In this case an empty array\u001b[0m\u001b[1;33m\u001b[0m\u001b[1;33m\u001b[0m\u001b[1;33m\u001b[0m\u001b[0m\n",
      "\u001b[1;32mE:\\Anaconda\\lib\\site-packages\\redis\\client.py\u001b[0m in \u001b[0;36mscan_iter\u001b[1;34m(self, match, count, _type)\u001b[0m\n\u001b[0;32m   2130\u001b[0m         \u001b[1;32mwhile\u001b[0m \u001b[0mcursor\u001b[0m \u001b[1;33m!=\u001b[0m \u001b[1;36m0\u001b[0m\u001b[1;33m:\u001b[0m\u001b[1;33m\u001b[0m\u001b[1;33m\u001b[0m\u001b[0m\n\u001b[0;32m   2131\u001b[0m             cursor, data = self.scan(cursor=cursor, match=match,\n\u001b[1;32m-> 2132\u001b[1;33m                                      count=count, _type=_type)\n\u001b[0m\u001b[0;32m   2133\u001b[0m             \u001b[1;32mfor\u001b[0m \u001b[0mitem\u001b[0m \u001b[1;32min\u001b[0m \u001b[0mdata\u001b[0m\u001b[1;33m:\u001b[0m\u001b[1;33m\u001b[0m\u001b[1;33m\u001b[0m\u001b[0m\n\u001b[0;32m   2134\u001b[0m                 \u001b[1;32myield\u001b[0m \u001b[0mitem\u001b[0m\u001b[1;33m\u001b[0m\u001b[1;33m\u001b[0m\u001b[0m\n",
      "\u001b[1;32mE:\\Anaconda\\lib\\site-packages\\redis\\client.py\u001b[0m in \u001b[0;36mscan\u001b[1;34m(self, cursor, match, count, _type)\u001b[0m\n\u001b[0;32m   2110\u001b[0m         \u001b[1;32mif\u001b[0m \u001b[0m_type\u001b[0m \u001b[1;32mis\u001b[0m \u001b[1;32mnot\u001b[0m \u001b[1;32mNone\u001b[0m\u001b[1;33m:\u001b[0m\u001b[1;33m\u001b[0m\u001b[1;33m\u001b[0m\u001b[0m\n\u001b[0;32m   2111\u001b[0m             \u001b[0mpieces\u001b[0m\u001b[1;33m.\u001b[0m\u001b[0mextend\u001b[0m\u001b[1;33m(\u001b[0m\u001b[1;33m[\u001b[0m\u001b[1;34mb'TYPE'\u001b[0m\u001b[1;33m,\u001b[0m \u001b[0m_type\u001b[0m\u001b[1;33m]\u001b[0m\u001b[1;33m)\u001b[0m\u001b[1;33m\u001b[0m\u001b[1;33m\u001b[0m\u001b[0m\n\u001b[1;32m-> 2112\u001b[1;33m         \u001b[1;32mreturn\u001b[0m \u001b[0mself\u001b[0m\u001b[1;33m.\u001b[0m\u001b[0mexecute_command\u001b[0m\u001b[1;33m(\u001b[0m\u001b[1;34m'SCAN'\u001b[0m\u001b[1;33m,\u001b[0m \u001b[1;33m*\u001b[0m\u001b[0mpieces\u001b[0m\u001b[1;33m)\u001b[0m\u001b[1;33m\u001b[0m\u001b[1;33m\u001b[0m\u001b[0m\n\u001b[0m\u001b[0;32m   2113\u001b[0m \u001b[1;33m\u001b[0m\u001b[0m\n\u001b[0;32m   2114\u001b[0m     \u001b[1;32mdef\u001b[0m \u001b[0mscan_iter\u001b[0m\u001b[1;33m(\u001b[0m\u001b[0mself\u001b[0m\u001b[1;33m,\u001b[0m \u001b[0mmatch\u001b[0m\u001b[1;33m=\u001b[0m\u001b[1;32mNone\u001b[0m\u001b[1;33m,\u001b[0m \u001b[0mcount\u001b[0m\u001b[1;33m=\u001b[0m\u001b[1;32mNone\u001b[0m\u001b[1;33m,\u001b[0m \u001b[0m_type\u001b[0m\u001b[1;33m=\u001b[0m\u001b[1;32mNone\u001b[0m\u001b[1;33m)\u001b[0m\u001b[1;33m:\u001b[0m\u001b[1;33m\u001b[0m\u001b[1;33m\u001b[0m\u001b[0m\n",
      "\u001b[1;32mE:\\Anaconda\\lib\\site-packages\\redis\\client.py\u001b[0m in \u001b[0;36mexecute_command\u001b[1;34m(self, *args, **options)\u001b[0m\n\u001b[0;32m    899\u001b[0m         \u001b[1;32mtry\u001b[0m\u001b[1;33m:\u001b[0m\u001b[1;33m\u001b[0m\u001b[1;33m\u001b[0m\u001b[0m\n\u001b[0;32m    900\u001b[0m             \u001b[0mconn\u001b[0m\u001b[1;33m.\u001b[0m\u001b[0msend_command\u001b[0m\u001b[1;33m(\u001b[0m\u001b[1;33m*\u001b[0m\u001b[0margs\u001b[0m\u001b[1;33m)\u001b[0m\u001b[1;33m\u001b[0m\u001b[1;33m\u001b[0m\u001b[0m\n\u001b[1;32m--> 901\u001b[1;33m             \u001b[1;32mreturn\u001b[0m \u001b[0mself\u001b[0m\u001b[1;33m.\u001b[0m\u001b[0mparse_response\u001b[0m\u001b[1;33m(\u001b[0m\u001b[0mconn\u001b[0m\u001b[1;33m,\u001b[0m \u001b[0mcommand_name\u001b[0m\u001b[1;33m,\u001b[0m \u001b[1;33m**\u001b[0m\u001b[0moptions\u001b[0m\u001b[1;33m)\u001b[0m\u001b[1;33m\u001b[0m\u001b[1;33m\u001b[0m\u001b[0m\n\u001b[0m\u001b[0;32m    902\u001b[0m         \u001b[1;32mexcept\u001b[0m \u001b[1;33m(\u001b[0m\u001b[0mConnectionError\u001b[0m\u001b[1;33m,\u001b[0m \u001b[0mTimeoutError\u001b[0m\u001b[1;33m)\u001b[0m \u001b[1;32mas\u001b[0m \u001b[0me\u001b[0m\u001b[1;33m:\u001b[0m\u001b[1;33m\u001b[0m\u001b[1;33m\u001b[0m\u001b[0m\n\u001b[0;32m    903\u001b[0m             \u001b[0mconn\u001b[0m\u001b[1;33m.\u001b[0m\u001b[0mdisconnect\u001b[0m\u001b[1;33m(\u001b[0m\u001b[1;33m)\u001b[0m\u001b[1;33m\u001b[0m\u001b[1;33m\u001b[0m\u001b[0m\n",
      "\u001b[1;32mE:\\Anaconda\\lib\\site-packages\\redis\\client.py\u001b[0m in \u001b[0;36mparse_response\u001b[1;34m(self, connection, command_name, **options)\u001b[0m\n\u001b[0;32m    913\u001b[0m         \u001b[1;34m\"Parses a response from the Redis server\"\u001b[0m\u001b[1;33m\u001b[0m\u001b[1;33m\u001b[0m\u001b[0m\n\u001b[0;32m    914\u001b[0m         \u001b[1;32mtry\u001b[0m\u001b[1;33m:\u001b[0m\u001b[1;33m\u001b[0m\u001b[1;33m\u001b[0m\u001b[0m\n\u001b[1;32m--> 915\u001b[1;33m             \u001b[0mresponse\u001b[0m \u001b[1;33m=\u001b[0m \u001b[0mconnection\u001b[0m\u001b[1;33m.\u001b[0m\u001b[0mread_response\u001b[0m\u001b[1;33m(\u001b[0m\u001b[1;33m)\u001b[0m\u001b[1;33m\u001b[0m\u001b[1;33m\u001b[0m\u001b[0m\n\u001b[0m\u001b[0;32m    916\u001b[0m         \u001b[1;32mexcept\u001b[0m \u001b[0mResponseError\u001b[0m\u001b[1;33m:\u001b[0m\u001b[1;33m\u001b[0m\u001b[1;33m\u001b[0m\u001b[0m\n\u001b[0;32m    917\u001b[0m             \u001b[1;32mif\u001b[0m \u001b[0mEMPTY_RESPONSE\u001b[0m \u001b[1;32min\u001b[0m \u001b[0moptions\u001b[0m\u001b[1;33m:\u001b[0m\u001b[1;33m\u001b[0m\u001b[1;33m\u001b[0m\u001b[0m\n",
      "\u001b[1;32mE:\\Anaconda\\lib\\site-packages\\redis\\connection.py\u001b[0m in \u001b[0;36mread_response\u001b[1;34m(self)\u001b[0m\n\u001b[0;32m    754\u001b[0m \u001b[1;33m\u001b[0m\u001b[0m\n\u001b[0;32m    755\u001b[0m         \u001b[1;32mif\u001b[0m \u001b[0misinstance\u001b[0m\u001b[1;33m(\u001b[0m\u001b[0mresponse\u001b[0m\u001b[1;33m,\u001b[0m \u001b[0mResponseError\u001b[0m\u001b[1;33m)\u001b[0m\u001b[1;33m:\u001b[0m\u001b[1;33m\u001b[0m\u001b[1;33m\u001b[0m\u001b[0m\n\u001b[1;32m--> 756\u001b[1;33m             \u001b[1;32mraise\u001b[0m \u001b[0mresponse\u001b[0m\u001b[1;33m\u001b[0m\u001b[1;33m\u001b[0m\u001b[0m\n\u001b[0m\u001b[0;32m    757\u001b[0m         \u001b[1;32mreturn\u001b[0m \u001b[0mresponse\u001b[0m\u001b[1;33m\u001b[0m\u001b[1;33m\u001b[0m\u001b[0m\n\u001b[0;32m    758\u001b[0m \u001b[1;33m\u001b[0m\u001b[0m\n",
      "\u001b[1;31mResponseError\u001b[0m: unknown command 'SCAN'"
     ]
    }
   ],
   "source": [
    "\"\"\"If customer has allergy of chicken and wants to filter out all the menu_item having chicken\n",
    "   Using scan_iter() function to find keys in a subset of your keyspace, consider using SCAN\n",
    "   Scans for ingredients having chicken. If chicken exists in the namespace deletes those keys \n",
    "\"\"\"\n",
    "for k in r8.scan_iter(\"chicken*\"):\n",
    "    r8.delete(k)\n",
    "#displays us menu_items which don't have chicken from Redis cache. In this case an empty array\n",
    "#The SCAN comman will show an error on redis-cli version lower than 2.8. Virtual desktop has version 2.4.5"
   ]
  },
  {
   "cell_type": "code",
   "execution_count": 19,
   "metadata": {
    "scrolled": false
   },
   "outputs": [
    {
     "data": {
      "text/plain": [
       "[b'menu_item:2113567782',\n",
       " b'menu_item:3965353997',\n",
       " b'menu_item:2578922745',\n",
       " b'menu_item:181884854',\n",
       " b'menu_item:3616826228',\n",
       " b'menu_item:389803428']"
      ]
     },
     "execution_count": 19,
     "metadata": {},
     "output_type": "execute_result"
    }
   ],
   "source": [
    "#Displays all the keys after items which user is allergic to is deleted above\n",
    "r8.keys(\"menu_item*\")"
   ]
  },
  {
   "cell_type": "markdown",
   "metadata": {},
   "source": [
    "# If Menu items are Out of Stock!\n",
    "\n",
    "## Exception handling"
   ]
  },
  {
   "cell_type": "code",
   "execution_count": 20,
   "metadata": {},
   "outputs": [],
   "source": [
    "import logging\n",
    "\n",
    "logging.basicConfig()\n",
    "\n",
    "class OutOfStockError(Exception):\n",
    "    \"\"\"Raised when menu items are all out of stock\"\"\"\n",
    "\n",
    "def buyitem(r8: redis.Redis, itemid: int) -> None:\n",
    "    with r8.pipeline() as pipe:\n",
    "        error_count = 0\n",
    "        while True:\n",
    "            try:\n",
    "                # Get available inventory, watching for changes\n",
    "                # related to this itemid before the transaction\n",
    "                pipe.watch(itemid)\n",
    "                nleft: bytes = r.hget(itemid, \"menu_status\")\n",
    "                if nleft > b\"0\":\n",
    "                    pipe.multi()\n",
    "                    print('Item back in stock')\n",
    "                    pipe.execute()\n",
    "                    break\n",
    "                else:\n",
    "                    # Stop watching the itemid and raise to break out\n",
    "                    pipe.unwatch()\n",
    "                    raise OutOfStockError(\n",
    "                        f\"Sorry, {itemid} is out of stock!\"\n",
    "                    )\n",
    "            except redis.WatchError:\n",
    "                # Log total num. of errors by this user to buy this item,\n",
    "                # then try the same process again of WATCH/HGET/MULTI/EXEC\n",
    "                error_count += 1\n",
    "                logging.warning(\n",
    "                    \"WatchError #%d: %s; retrying\",\n",
    "                    error_count, itemid\n",
    "                )\n",
    "    return None\n",
    "\n",
    "#This doesn't return any error in our keyspace as all the items are in stock"
   ]
  },
  {
   "cell_type": "code",
   "execution_count": null,
   "metadata": {},
   "outputs": [],
   "source": []
  },
  {
   "cell_type": "code",
   "execution_count": null,
   "metadata": {},
   "outputs": [],
   "source": []
  },
  {
   "cell_type": "code",
   "execution_count": null,
   "metadata": {},
   "outputs": [],
   "source": []
  },
  {
   "cell_type": "code",
   "execution_count": null,
   "metadata": {},
   "outputs": [],
   "source": []
  }
 ],
 "metadata": {
  "kernelspec": {
   "display_name": "Python 3",
   "language": "python",
   "name": "python3"
  },
  "language_info": {
   "codemirror_mode": {
    "name": "ipython",
    "version": 3
   },
   "file_extension": ".py",
   "mimetype": "text/x-python",
   "name": "python",
   "nbconvert_exporter": "python",
   "pygments_lexer": "ipython3",
   "version": "3.7.3"
  }
 },
 "nbformat": 4,
 "nbformat_minor": 5
}
