{
 "cells": [
  {
   "cell_type": "markdown",
   "id": "6244b4e0",
   "metadata": {},
   "source": [
    "# Polyglot Persistence\n",
    "# NoSQL(Redis) with python\n",
    "\n",
    "## Food basket and Item status stored in Redis database"
   ]
  },
  {
   "cell_type": "code",
   "execution_count": null,
   "id": "59beeb6e",
   "metadata": {
    "scrolled": true
   },
   "outputs": [],
   "source": [
    "# Import Redis package\n",
    "import redis,uuid\n",
    "\n",
    "# Main class Redis() which you use to execute Redis commands (the port and db=0 are default values)\n",
    "# Localhost = 127.0.0.1\n",
    "r8 = redis.Redis(host='localhost', port=6379, db=8)\n",
    "\n",
    "# Check database connection -will return true if successful\n",
    "print(r8.ping())"
   ]
  },
  {
   "cell_type": "code",
   "execution_count": null,
   "id": "1e219b70",
   "metadata": {},
   "outputs": [],
   "source": [
    "import random\n",
    "\n",
    "\n",
    "# Redis hash of field-value pairs is used. Eash hash has a key that with an integer (we are importing random())\n",
    "random.seed(203)\n",
    "\n",
    "import random\n",
    "# Redis hash of field-value pairs is used. Eash hash has a key that with an integer (we are importing random())\n",
    "random.seed(203)\n",
    "\n",
    "# The prefix food_basket creates a namespace. We are keeing only food_basket created in Redis\n",
    "food_baskets = {f\"food_basket:{random.getrandbits(32)}\": i for i in (\n",
    "    {\n",
    "        'customer_id':1,\n",
    "        'order_id':1,\n",
    "        'total_amount':4000,\n",
    "        'quantity:1':4,\n",
    "        'quantity:2':2,\n",
    "        'menu_name:1':'chicken momos',\n",
    "        'menu_status:1':1,\n",
    "        'menu_status:2':0,\n",
    "        'menu_name:2':'chicken satay',\n",
    "        'site_name' : 'Party Fowl',\n",
    "        'date':'22 may, 2020',\n",
    "        'time':'14:00',\n",
    "        'discount_coupon': 'TURKEY25',\n",
    "        'discount_percentage':25,\n",
    "        'amount_after_discount':3000 \n",
    "    },\n",
    "    {\n",
    "        'customer_id':2,\n",
    "        'order_id':2,\n",
    "        'total_amount':5000,\n",
    "        'quantity:1':4,\n",
    "        'quantity:2':2,\n",
    "        'menu_name:1':'banana',\n",
    "        'menu_name:2':'apples',\n",
    "        'menu:1_status':1,\n",
    "        'menu:2_status':0,\n",
    "        'site_name' : 'Like No Udder',\n",
    "        'date':'21 may, 2020',\n",
    "        'time':'14:00',\n",
    "        'discount_coupon': 'ADIDAS30',\n",
    "        'discount_percentage':30,\n",
    "        'amount_after_discount':3500 \n",
    "    },\n",
    "    {\n",
    "        'customer_id':3,\n",
    "        'order_id':3,\n",
    "        'total_amount':7000,\n",
    "        'quantity:1':4,\n",
    "        'quantity:2':2,\n",
    "        'menu_name:1':'banana',\n",
    "        'menu_name:2':'apples',\n",
    "        'menu:1_status':1,\n",
    "        'menu:2_status':0,\n",
    "        'site_name' : 'Basic need Pizza',\n",
    "        'date':'21 may, 2020',\n",
    "        'time':'14:00',\n",
    "        'discount_coupon': 'BODYSHOP50',\n",
    "        'discount_percentage':50,\n",
    "        'amount_after_discount':3500\n",
    "    },\n",
    "    {\n",
    "        'customer_id':4,\n",
    "        'order_id':4,\n",
    "        'total_amount':8000,\n",
    "        'quantity:1':4,\n",
    "        'quantity:2':2,\n",
    "        'menu_name:1':'banana',\n",
    "        'menu_name:2':'apples',\n",
    "        'menu:1_status':1,\n",
    "        'menu:2_status':1,\n",
    "        'site_name' : 'The Codfather',\n",
    "        'date':'21 may, 2020',\n",
    "        'time':'14:00',\n",
    "        'discount_coupon': 'TURKEY25',\n",
    "        'discount_percentage':25,\n",
    "        'amount_after_discount':6000\n",
    "    },\n",
    "    {\n",
    "        'customer_id':2,\n",
    "        'order_id':2,\n",
    "        'total_amount':4000,\n",
    "        'quantity:1':4,\n",
    "        'quantity:2':2,\n",
    "        'menu_name:1':'banana',\n",
    "        'menu_name:2':'apples',\n",
    "        'menu:1_status':1,\n",
    "        'menu:2_status':1,\n",
    "        'site_name' : 'Life of Pie',\n",
    "        'date':'21 may, 2020',\n",
    "        'time':'14:00',\n",
    "        'discount_coupon': 'TURKEY25',\n",
    "        'discount_percentage':25,\n",
    "        'amount_after_discount':3000\n",
    "    })\n",
    "}\n",
    "\n",
    "\n",
    "\n"
   ]
  },
  {
   "cell_type": "code",
   "execution_count": null,
   "id": "872e15cf",
   "metadata": {
    "scrolled": true
   },
   "outputs": [],
   "source": [
    "with r8.pipeline() as pipe:\n",
    "        for basket_id, food_basket in food_baskets.items():\n",
    "            pipe.hmset(basket_id, food_basket)   \n",
    "        pipe.execute()\n",
    "r8.keys()#displaying all the Redis hash present in the namespace"
   ]
  },
  {
   "cell_type": "markdown",
   "id": "38fe08a4",
   "metadata": {},
   "source": [
    "## TTL(Time to Live) expiration if not proceeded to the next step"
   ]
  },
  {
   "cell_type": "markdown",
   "id": "55f03222",
   "metadata": {},
   "source": [
    "#Hash keys will not be added from Redis cache to the database if the food basket stays idle for 10 mins without completing the payment.\n"
   ]
  },
  {
   "cell_type": "code",
   "execution_count": null,
   "id": "cd43b6dd",
   "metadata": {},
   "outputs": [],
   "source": [
    "from datetime import datetime\n",
    "# retrieving current time using using datetime object\n",
    "now = datetime.now()"
   ]
  },
  {
   "cell_type": "code",
   "execution_count": null,
   "id": "de723a38",
   "metadata": {},
   "outputs": [],
   "source": [
    "#Time To Live (TTL) implementation on customer's food basket. \n",
    "#Use this to temporarily store useful data.\n",
    "# Every key has TTL associated with it and the default value is -1.\n",
    "# Set this number to a positive value and which represents the number of seconds remaining before the data expires.\n",
    "\n",
    "r8.set('food_basket:3616826228',now.strftime(\"%H:%M:%S\"))\n",
    "r8.ttl('food_basket:3616826228')\n",
    "r8.expire('food_basket:3616826228', 600) #expiry set for 10 minutes"
   ]
  },
  {
   "cell_type": "code",
   "execution_count": null,
   "id": "6d1abfb7",
   "metadata": {},
   "outputs": [],
   "source": [
    "r8.ttl('food_basket:3616826228')"
   ]
  },
  {
   "cell_type": "code",
   "execution_count": null,
   "id": "bf75aba9",
   "metadata": {},
   "outputs": [],
   "source": [
    "r8.ttl('food_basket:3616826228')"
   ]
  },
  {
   "cell_type": "markdown",
   "id": "f9a1f809",
   "metadata": {},
   "source": [
    "## If the Redis Hash key is not expired, adding it to the database from cache"
   ]
  },
  {
   "cell_type": "code",
   "execution_count": null,
   "id": "01ac8966",
   "metadata": {
    "scrolled": true
   },
   "outputs": [],
   "source": [
    "# Adding data to database using HMSET\n",
    "\n",
    "# If the Redis hash key has not expired ADD it to the database using pipelining\n",
    "# The code block above also introduces the concept of Redis pipelining, which is a way to cut down the number of round-trip transactions that you need to write or read data from your Redis server. \n",
    "# If you would have just called r.hmset() three times, then this would necessitate a back-and-forth round trip operation for each row written.\n",
    "\n",
    "#Using if statement to check if the hash has expired. \n",
    "#If hash is not expired, pipelining the data(hash) into the database using HMSET\n",
    "if r8.ttl('food_basket:3616826228') !=-2:\n",
    "    with r8.pipeline() as pipe:\n",
    "        for basket_id, food_basket in food_baskets.items():\n",
    "            pipe.hmset(basket_id, food_basket)   \n",
    "        pipe.execute()\n"
   ]
  },
  {
   "cell_type": "code",
   "execution_count": null,
   "id": "706d2a2a",
   "metadata": {},
   "outputs": [],
   "source": [
    "# Saving data\n",
    "\n",
    "r8.bgsave()"
   ]
  },
  {
   "cell_type": "code",
   "execution_count": null,
   "id": "570746a0",
   "metadata": {
    "scrolled": true
   },
   "outputs": [],
   "source": [
    "#displaying keys having food_basket in the name of hashes\n",
    "r8.keys(\"food_basket*\")"
   ]
  },
  {
   "cell_type": "code",
   "execution_count": null,
   "id": "2fdfcc61",
   "metadata": {
    "scrolled": false
   },
   "outputs": [],
   "source": [
    "# View values\n",
    "#please change the index of hash to one of the values in the output above\n",
    "print(r8.hget(\"food_basket:2113567782\", \"total_amount\"))\n",
    "print(r8.hget(\"food_basket:2113567782\", \"discount_percentage\"))"
   ]
  },
  {
   "cell_type": "markdown",
   "id": "540369d5",
   "metadata": {},
   "source": [
    "## II. Second feature implementation\n",
    "## Pattern matching "
   ]
  },
  {
   "cell_type": "markdown",
   "id": "b72bb2a7",
   "metadata": {},
   "source": [
    "## Saving another set of hash keys onto a distributed cache to know the Item ingredients( done this to avoid round-trip time)"
   ]
  },
  {
   "cell_type": "markdown",
   "id": "c35695b0",
   "metadata": {},
   "source": [
    "## Using pattern matching to help users view only those items which they are not allergic to"
   ]
  },
  {
   "cell_type": "markdown",
   "id": "0f6fe9bf",
   "metadata": {},
   "source": [
    "## Using another namespace menu_items"
   ]
  },
  {
   "cell_type": "code",
   "execution_count": null,
   "id": "0506f459",
   "metadata": {},
   "outputs": [],
   "source": [
    "import random\n",
    "\n",
    "\n",
    "# Redis hash of field-value pairs is used. Eash hash has a key that with an integer (we are importing random())\n",
    "random.seed(203)\n",
    "\n",
    "import random\n",
    "# Redis hash of field-value pairs is used. Eash hash has a key that with an integer (we are importing random())\n",
    "random.seed(203)\n",
    "\n",
    "menu_items = {f\"menu_item:{random.getrandbits(32)}\": i for i in (\n",
    "    {\n",
    "        'menu_id':1,\n",
    "        'menu_name':'chicken momos',\n",
    "        'chicken':'ingredient',\n",
    "        'carrot':'ingredient',\n",
    "        'refined flour':'ingredient',\n",
    "        'cabbage':'ingredient',\n",
    "        'Oil':'ingredient'\n",
    "        \n",
    "    },\n",
    "    {\n",
    "        'menu_id':2,\n",
    "        'menu_name':'veg momos',\n",
    "        'paneer':'ingredient',\n",
    "        'mushroom':'ingredient',\n",
    "        'refined flour':'ingredient',\n",
    "        'maida':'ingredient'\n",
    "        \n",
    "    },\n",
    "    {\n",
    "        'menu_id':3,\n",
    "        'menu_name':'chicken noodles',\n",
    "        'chicken':'ingredient',\n",
    "        'soy sauce':'ingredient',\n",
    "        'Chilli pepper':'ingredient'\n",
    "    },\n",
    "    {\n",
    "        'menu_id':4,\n",
    "        'menu_name':'pork soup',\n",
    "        'sodium soy sauce':'ingredient',\n",
    "        'boneless pork':'ingredient',\n",
    "        'Sliced mushrooms':'ingredient'\n",
    "    },\n",
    "    {\n",
    "        'menu_id':5,\n",
    "        'menu_name':'chicken biriyani',\n",
    "        'ginger garlic paste':'ingredient',\n",
    "        'chicken':'ingredient',\n",
    "        'turmeric':'ingredient',\n",
    "        'chilly powder':'ingredient',\n",
    "        'garam masala':'ingredient'\n",
    "    },\n",
    "    {\n",
    "        'menu_id':6,\n",
    "        'menu_name':'Pancakes',\n",
    "        'eggs':'ingredient',\n",
    "        'milk':'ingredient',\n",
    "        'maple syrup':'ingredient',\n",
    "        'berries':'ingredient'\n",
    "    })\n",
    "}\n",
    "\n",
    "\n"
   ]
  },
  {
   "cell_type": "code",
   "execution_count": null,
   "id": "3325abed",
   "metadata": {
    "scrolled": true
   },
   "outputs": [],
   "source": [
    "# Adding data to database using HMSET\n",
    "\n",
    "# The code block below also introduces the concept of Redis pipelining, which is a way to cut down the number of round-trip transactions that you need to write or read data from your Redis server. \n",
    "# If you would have just called r.hmset() three times, then this would necessitate a back-and-forth round trip operation for each row written.\n",
    "\n",
    "\n",
    "with r8.pipeline() as pipe:\n",
    "        for menus_id, menu_item in menu_items.items():\n",
    "            pipe.hmset(menus_id, menu_item)   \n",
    "        pipe.execute()\n",
    "        \n"
   ]
  },
  {
   "cell_type": "code",
   "execution_count": null,
   "id": "0cadd73c",
   "metadata": {},
   "outputs": [],
   "source": [
    "#Displays all the keys matching menu_item\n",
    "r8.keys(\"menu_item*\")"
   ]
  },
  {
   "cell_type": "markdown",
   "id": "eeffcfae",
   "metadata": {},
   "source": [
    "### Filtering keys based on customer's allergy ( Using scan_iter() function)"
   ]
  },
  {
   "cell_type": "code",
   "execution_count": null,
   "id": "17390a11",
   "metadata": {
    "scrolled": false
   },
   "outputs": [],
   "source": [
    "\"\"\"If customer has allergy of chicken and wants to filter out all the menu_item having chicken\n",
    "   Using scan_iter() function to find keys in a subset of your keyspace, consider using SCAN\n",
    "   Scans for ingredients having chicken. If chicken exists in the namespace deletes those keys \n",
    "\"\"\"\n",
    "for k in r8.scan_iter(\"chicken*\"):\n",
    "    r8.delete(k)\n",
    "#displays us menu_items which don't have chicken from Redis cache. In this case an empty array\n",
    "#The SCAN comman will show an error on redis-cli version lower than 2.8. Virtual desktop has version 2.4.5"
   ]
  },
  {
   "cell_type": "code",
   "execution_count": null,
   "id": "d25c5483",
   "metadata": {
    "scrolled": false
   },
   "outputs": [],
   "source": [
    "#Displays all the keys after items which user is allergic to is deleted above\n",
    "r8.keys(\"menu_item*\")"
   ]
  },
  {
   "cell_type": "markdown",
   "id": "d1ba0dcb",
   "metadata": {},
   "source": [
    "# If Menu items are Out of Stock!\n",
    "\n",
    "## Exception handling"
   ]
  },
  {
   "cell_type": "code",
   "execution_count": null,
   "id": "c636b9fc",
   "metadata": {},
   "outputs": [],
   "source": [
    "import logging\n",
    "\n",
    "logging.basicConfig()\n",
    "\n",
    "class OutOfStockError(Exception):\n",
    "    \"\"\"Raised when menu items are all out of stock\"\"\"\n",
    "\n",
    "def buyitem(r8: redis.Redis, itemid: int) -> None:\n",
    "    with r8.pipeline() as pipe:\n",
    "        error_count = 0\n",
    "        while True:\n",
    "            try:\n",
    "                # Get available inventory, watching for changes\n",
    "                # related to this itemid before the transaction\n",
    "                pipe.watch(itemid)\n",
    "                nleft: bytes = r.hget(itemid, \"menu_status\")\n",
    "                if nleft > b\"0\":\n",
    "                    pipe.multi()\n",
    "                    print('Item back in stock')\n",
    "                    pipe.execute()\n",
    "                    break\n",
    "                else:\n",
    "                    # Stop watching the itemid and raise to break out\n",
    "                    pipe.unwatch()\n",
    "                    raise OutOfStockError(\n",
    "                        f\"Sorry, {itemid} is out of stock!\"\n",
    "                    )\n",
    "            except redis.WatchError:\n",
    "                # Log total num. of errors by this user to buy this item,\n",
    "                # then try the same process again of WATCH/HGET/MULTI/EXEC\n",
    "                error_count += 1\n",
    "                logging.warning(\n",
    "                    \"WatchError #%d: %s; retrying\",\n",
    "                    error_count, itemid\n",
    "                )\n",
    "    return None\n",
    "\n",
    "#This doesn't return any error in our keyspace as all the items are in stock"
   ]
  },
  {
   "cell_type": "code",
   "execution_count": null,
   "id": "83fff68b",
   "metadata": {},
   "outputs": [],
   "source": []
  },
  {
   "cell_type": "code",
   "execution_count": null,
   "id": "0b05163e",
   "metadata": {},
   "outputs": [],
   "source": []
  },
  {
   "cell_type": "code",
   "execution_count": null,
   "id": "c09ca18e",
   "metadata": {},
   "outputs": [],
   "source": []
  },
  {
   "cell_type": "code",
   "execution_count": null,
   "id": "1b694abc",
   "metadata": {},
   "outputs": [],
   "source": []
  }
 ],
 "metadata": {
  "kernelspec": {
   "display_name": "Python 3 (ipykernel)",
   "language": "python",
   "name": "python3"
  },
  "language_info": {
   "codemirror_mode": {
    "name": "ipython",
    "version": 3
   },
   "file_extension": ".py",
   "mimetype": "text/x-python",
   "name": "python",
   "nbconvert_exporter": "python",
   "pygments_lexer": "ipython3",
   "version": "3.8.8"
  }
 },
 "nbformat": 4,
 "nbformat_minor": 5
}
